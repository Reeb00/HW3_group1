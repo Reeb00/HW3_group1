{
 "cells": [
  {
   "cell_type": "markdown",
   "metadata": {},
   "source": [
    "# 7. Algorithmic Question"
   ]
  },
  {
   "cell_type": "markdown",
   "metadata": {},
   "source": [
    "1. Implement a code to solve the above mentioned problem.\n",
    "\n",
    "2. What is the time complexity (the Big O notation) of your solution? Please provide a detailed explanation of how you calculated the time complexity.\n",
    "\n",
    "3. Ask ChatGPT or any other LLM chatbot tool to check your code's time complexity (the Big O notation). Compare your answer to theirs. Do you believe this is correct? If the two differ, which one is right? (why?)\n",
    "\n",
    "4. What do you think of the optimality of your code? Do you believe it is optimal? Can you improve? Please elaborate on your response."
   ]
  },
  {
   "cell_type": "markdown",
   "metadata": {},
   "source": [
    "## 7.1 Implementing a Solution\n",
    "\n",
    "Our solution is based on binary search. Basically our solution works as follows:\n",
    "1. add up Flexibility (maximal working hours - minimal working hours) and store it in an array (this array is by construction sorted)\n",
    "2. compute remaining working hours (i.e. hours not already consumed by the minimal working hours)\n",
    "3. search (by binary search) for the first index (critical day) in the Flexibility array, where Flexibility is greater than or equal to the remaining working hours.\n",
    "4. Print upper working hours until the critical day, print the hours for the critical day, print the minimal working hours for the remaining days. "
   ]
  },
  {
   "cell_type": "markdown",
   "metadata": {},
   "source": [
    "Let us first define an appropriate version of binary search."
   ]
  },
  {
   "cell_type": "code",
   "execution_count": 7,
   "metadata": {},
   "outputs": [],
   "source": [
    "def binary_search_geq(arr, constant, low, high):\n",
    "    \"\"\"\n",
    "    Takes a sorted array (arr) as well as the indexes low and high.\n",
    "    Assumes low <= high.\n",
    "    Searches for the first (index,value)-pair where value is greater than or equal to a constant.\n",
    "    Returns the modified tuple (index, value-constant)\n",
    "    This method is just a properly adjusted version of the binary_search-algorithm.\n",
    "    \"\"\"\n",
    "    # if low <= high:\n",
    "    mid = (low+high)//2\n",
    "    # print(mid)\n",
    "    if arr[mid] >= constant:\n",
    "        if mid == 0 : # is it the first element? \n",
    "            return mid #, arr[mid] - constant # We've found the searched for tuple!\n",
    "        elif arr[mid - 1] < constant: # is the value at index mid-1 still <= 0 ?\n",
    "            return mid # , arr[mid] - constant # We've found the searched for tuple!\n",
    "        else:\n",
    "            return binary_search_geq(arr, constant, low, mid - 1) # search goes on in the left part of the array.\n",
    "    else: \n",
    "        return binary_search_geq(arr, constant, mid + 1, high) # search goes on in the right part of the array"
   ]
  },
  {
   "cell_type": "markdown",
   "metadata": {},
   "source": [
    "It follows the code to run the problem."
   ]
  },
  {
   "cell_type": "code",
   "execution_count": 17,
   "metadata": {},
   "outputs": [],
   "source": [
    "# d stands for \"total_days\n",
    "def provide_report():\n",
    "    d, sumHours = map(int, input().split())\n",
    "    remHours = sumHours # remaining hours\n",
    "    total_flexibility = 0\n",
    "    lower_bounds = []\n",
    "    upper_bounds = []\n",
    "    cumFlex = [] # cumulated flexibility\n",
    "\n",
    "\n",
    "    for _ in range(d):\n",
    "        lower, upper = map( int, input().split() )\n",
    "        lower_bounds.append(lower)\n",
    "        upper_bounds.append(upper)\n",
    "        remHours -= lower\n",
    "        total_flexibility += upper-lower\n",
    "        cumFlex.append(total_flexibility) # this gives a sorted array\n",
    "\n",
    "    if remHours < 0 or remHours > total_flexibility:\n",
    "        print('NO')\n",
    "    else:\n",
    "        print('YES')\n",
    "        crit_day = binary_search_geq(cumFlex, remHours, 0 , d-1)\n",
    "        crit_hours = lower_bounds[crit_day]\n",
    "        if crit_day > 0:\n",
    "            crit_hours += remHours - cumFlex[crit_day - 1] # greater than or equal to zero by above binary search.\n",
    "        else:\n",
    "            crit_hours += remHours\n",
    "\n",
    "        working_more_than_minimal = upper_bounds[:crit_day]\n",
    "        working_more_than_minimal.append(crit_hours)\n",
    "\n",
    "        # report = working_more_than_minimal + lower_bounds[crit_day+1:]\n",
    "        print(*working_more_than_minimal, *lower_bounds[crit_day+1:] )\n"
   ]
  },
  {
   "cell_type": "markdown",
   "metadata": {},
   "source": [
    "Examples"
   ]
  },
  {
   "cell_type": "code",
   "execution_count": 21,
   "metadata": {},
   "outputs": [
    {
     "name": "stdout",
     "output_type": "stream",
     "text": [
      "YES\n",
      "10 0\n"
     ]
    }
   ],
   "source": [
    "provide_report()"
   ]
  },
  {
   "cell_type": "markdown",
   "metadata": {},
   "source": [
    "## 7.2 Time Complexity\n",
    "We consider the function provide_report(). The input needs O(d) time, where d is the total number of days and the print-statement at the end of provide_report() takes also O(d). However this should not be the focus of this consideration. Let's consider the part inbetween, after the last input-pair is given.\n",
    "\n",
    "\n",
    "The only critical step is calling the function \"binary_search_geq()\". All the other steps clearly just need constant time. However binary search runs in O(log(d)) by lecture where d is the total number of days. And this is optimal for this searching problem."
   ]
  },
  {
   "cell_type": "markdown",
   "metadata": {},
   "source": [
    "## 7.3 chatGPT\n",
    "Chat-GPT agrees on our analysis of the time complexity."
   ]
  },
  {
   "cell_type": "markdown",
   "metadata": {},
   "source": [
    "## 7.4 Optimality\n",
    "**Question 1: Can we start providing a report before receiving the last input-pair?**\n",
    "\n",
    "In the worst case the answer is \"no\". The last input-pair can change our complete solution. Consider for example the input\n",
    "2 2 \n",
    "\n",
    "0 1 \n",
    "\n",
    "0 1 \n",
    "\n",
    "which needs 1 1 as a solution. And the input\n",
    "\n",
    "2 1 \n",
    "\n",
    "0 1 \n",
    "\n",
    "2 2 \n",
    "\n",
    "needs 0 2 as a solution.\n",
    "\n",
    "\n",
    "\n",
    "**Question 2: Can the problem be reduced to a simpler problem?**\n",
    "\n",
    "Possible, but we haven't found a better approach and also believe there is none.\n",
    "\n",
    "**Resumé**\n",
    "\n",
    "Hence we believe in the optimality of our code."
   ]
  }
 ],
 "metadata": {
  "kernelspec": {
   "display_name": "Python 3",
   "language": "python",
   "name": "python3"
  },
  "language_info": {
   "codemirror_mode": {
    "name": "ipython",
    "version": 3
   },
   "file_extension": ".py",
   "mimetype": "text/x-python",
   "name": "python",
   "nbconvert_exporter": "python",
   "pygments_lexer": "ipython3",
   "version": "3.9.5"
  }
 },
 "nbformat": 4,
 "nbformat_minor": 2
}
